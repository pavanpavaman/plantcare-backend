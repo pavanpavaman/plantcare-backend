{
 "cells": [
  {
   "cell_type": "code",
   "execution_count": 2,
   "id": "963b75b8-3a08-498b-899e-e56e5b86a387",
   "metadata": {},
   "outputs": [
    {
     "name": "stdout",
     "output_type": "stream",
     "text": [
      "\u001b[1m1/1\u001b[0m \u001b[32m━━━━━━━━━━━━━━━━━━━━\u001b[0m\u001b[37m\u001b[0m \u001b[1m0s\u001b[0m 238ms/step\n",
      "[TEST] Predicted: Mango - Bacterial Canker (0.99)\n"
     ]
    }
   ],
   "source": [
    "import numpy as np\n",
    "from tensorflow.keras.models import load_model\n",
    "from PIL import Image\n",
    "import os\n",
    "import json\n",
    "import cv2\n",
    "\n",
    "# Load mango model\n",
    "model_path = os.path.join(r\"C:\\Users\\Pavan\\Pavaman Tech\\disease_detection\\seperate_models\\Model\\Mango_model\\cnn_mango_disease_experiments\\mango_leaf_disease_model.keras\")\n",
    "model = load_model(model_path)\n",
    "\n",
    "# Load class names\n",
    "with open(os.path.join(\"data\", \"mango_class_names.json\"), \"r\") as f:\n",
    "    class_names = json.load(f)\n",
    "\n",
    "# Preprocess mango image like in training\n",
    "def preprocess_mango_image(img_pil, target_size=(224, 224)):\n",
    "    img = np.array(img_pil)\n",
    "    img = cv2.resize(img, (256, 256))\n",
    "\n",
    "    hsv = cv2.cvtColor(img, cv2.COLOR_RGB2HSV)\n",
    "    lower = np.array([25, 40, 40])\n",
    "    upper = np.array([95, 255, 255])\n",
    "    mask = cv2.inRange(hsv, lower, upper)\n",
    "\n",
    "    kernel = np.ones((5, 5), np.uint8)\n",
    "    mask = cv2.morphologyEx(mask, cv2.MORPH_CLOSE, kernel)\n",
    "    result = cv2.bitwise_and(img, img, mask=mask)\n",
    "\n",
    "    lab = cv2.cvtColor(result, cv2.COLOR_RGB2LAB)\n",
    "    l, a, b = cv2.split(lab)\n",
    "    clahe = cv2.createCLAHE(clipLimit=2.0, tileGridSize=(8, 8))\n",
    "    cl = clahe.apply(l)\n",
    "    lab = cv2.merge((cl, a, b))\n",
    "    enhanced = cv2.cvtColor(lab, cv2.COLOR_LAB2RGB)\n",
    "\n",
    "    final = cv2.resize(enhanced, target_size)\n",
    "    return final / 255.0\n",
    "\n",
    "# Load test image\n",
    "img_path = r\"C:\\Users\\Pavan\\Pavaman Tech\\disease_detection\\seperate_models\\Data\\open_source_mango_data\\Bacterial_Canker\\IMG_20240504_152005.jpg\"\n",
    "img_pil = Image.open(img_path).convert(\"RGB\")\n",
    "processed = np.expand_dims(preprocess_mango_image(img_pil), axis=0)\n",
    "\n",
    "# Predict\n",
    "pred = model.predict(processed)[0]\n",
    "idx = int(np.argmax(pred))\n",
    "label = class_names[str(idx)]\n",
    "conf = float(np.max(pred))\n",
    "\n",
    "print(f\"[TEST] Predicted: {label} ({conf:.2f})\")"
   ]
  },
  {
   "cell_type": "code",
   "execution_count": null,
   "id": "54e0323e-6b88-4353-bea2-79b93c833fed",
   "metadata": {},
   "outputs": [],
   "source": []
  }
 ],
 "metadata": {
  "kernelspec": {
   "display_name": "Python 3 (ipykernel)",
   "language": "python",
   "name": "python3"
  },
  "language_info": {
   "codemirror_mode": {
    "name": "ipython",
    "version": 3
   },
   "file_extension": ".py",
   "mimetype": "text/x-python",
   "name": "python",
   "nbconvert_exporter": "python",
   "pygments_lexer": "ipython3",
   "version": "3.12.7"
  }
 },
 "nbformat": 4,
 "nbformat_minor": 5
}
